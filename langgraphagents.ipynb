{
 "cells": [
  {
   "cell_type": "code",
   "execution_count": 2,
   "metadata": {},
   "outputs": [],
   "source": [
    "from langchain_community.tools import WikipediaQueryRun\n",
    "from langchain_community.utilities import WikipediaAPIWrapper\n",
    "\n",
    "\n",
    "api_wrapper = WikipediaAPIWrapper(top_k_results=1, doc_content_chars_max=300)\n",
    "wiki_tool = WikipediaQueryRun(api_wrapper=api_wrapper)"
   ]
  },
  {
   "cell_type": "code",
   "execution_count": 3,
   "metadata": {},
   "outputs": [
    {
     "data": {
      "text/plain": [
       "'Page: Intelligent agent\\nSummary: In artificial intelligence, an intelligent agent is an entity that perceives its environment, takes actions autonomously to achieve goals, and may improve its performance through machine learning or by acquiring knowledge. Leading AI textbooks define artificial intel'"
      ]
     },
     "execution_count": 3,
     "metadata": {},
     "output_type": "execute_result"
    }
   ],
   "source": [
    "wiki_tool.run({\"query\": \"AI agents\"})"
   ]
  },
  {
   "cell_type": "code",
   "execution_count": null,
   "metadata": {},
   "outputs": [],
   "source": [
    "from langchain_google_genai import ChatGoogleGenerativeAI\n",
    "llm = ChatGoogleGenerativeAI(model=\"gemini-1.5-pro-latest\", temperature=0.1, api_key=\"Your google Api Key\")"
   ]
  },
  {
   "cell_type": "code",
   "execution_count": 5,
   "metadata": {},
   "outputs": [
    {
     "data": {
      "text/plain": [
       "'Hello! How can I help you today?'"
      ]
     },
     "execution_count": 5,
     "metadata": {},
     "output_type": "execute_result"
    }
   ],
   "source": [
    "tools = [wiki_tool] # single tool is used\n",
    "\n",
    "# Tool binding\n",
    "llm_with_tools = llm.bind_tools(tools)\n",
    "\n",
    "#Tool calling\n",
    "result = llm_with_tools.invoke(\"Hello world!\")\n",
    "result\n",
    "result.content\n",
    "     "
   ]
  },
  {
   "cell_type": "code",
   "execution_count": 6,
   "metadata": {},
   "outputs": [],
   "source": [
    "from langgraph.prebuilt import create_react_agent\n",
    "\n",
    "agent_executor = create_react_agent(llm, tools)"
   ]
  },
  {
   "cell_type": "code",
   "execution_count": 7,
   "metadata": {},
   "outputs": [
    {
     "data": {
      "text/plain": [
       "[HumanMessage(content='hi!', additional_kwargs={}, response_metadata={}, id='b5ac2dfc-f9a7-4897-a316-e45587c5dcf5'),\n",
       " AIMessage(content='How can I help you today?', additional_kwargs={}, response_metadata={'prompt_feedback': {'block_reason': 0, 'safety_ratings': []}, 'finish_reason': 'STOP', 'safety_ratings': []}, id='run-505bb961-2bef-449c-9543-9bb83912a0d6-0', usage_metadata={'input_tokens': 48, 'output_tokens': 8, 'total_tokens': 56, 'input_token_details': {'cache_read': 0}})]"
      ]
     },
     "execution_count": 7,
     "metadata": {},
     "output_type": "execute_result"
    }
   ],
   "source": [
    "from langchain_core.messages import HumanMessage\n",
    "\n",
    "#First up, let's see how it responds when there's no need to call a tool:\n",
    "response = agent_executor.invoke({\"messages\": [HumanMessage(content=\"hi!\")]})\n",
    "response[\"messages\"]"
   ]
  },
  {
   "cell_type": "code",
   "execution_count": 8,
   "metadata": {},
   "outputs": [
    {
     "name": "stdout",
     "output_type": "stream",
     "text": [
      "How can I help you today?\n"
     ]
    }
   ],
   "source": [
    "print(response[\"messages\"][-1].content)"
   ]
  },
  {
   "cell_type": "code",
   "execution_count": 9,
   "metadata": {},
   "outputs": [
    {
     "data": {
      "text/plain": [
       "[HumanMessage(content='what is agentic ai', additional_kwargs={}, response_metadata={}, id='270ac088-b259-4362-832a-2d4fdc8d7d66'),\n",
       " AIMessage(content='Agentic AI refers to AI systems designed to act autonomously and proactively, exhibiting goal-directed behavior.  They can make decisions and take actions without explicit human intervention, often learning and adapting as they strive towards their objectives.  This contrasts with passive AI systems that simply respond to inputs or execute pre-programmed instructions.  Key characteristics of agentic AI include:\\n\\n* **Proactiveness:**  Agentic AI anticipates needs and initiates actions rather than passively waiting for commands.\\n* **Goal-Oriented Behavior:**  These systems operate with specific goals in mind, driving their actions and decision-making processes.\\n* **Autonomy:**  Agentic AI can function independently, making choices and executing tasks without constant human oversight.\\n* **Learning and Adaptation:**  Many agentic AI systems employ machine learning to improve their performance and adapt to changing environments.\\n\\nWhile the potential benefits of agentic AI are significant, including increased efficiency and automation, there are also important considerations regarding safety, ethics, and control.  Ensuring that these systems align with human values and operate within established boundaries is crucial for responsible development and deployment.', additional_kwargs={}, response_metadata={'prompt_feedback': {'block_reason': 0, 'safety_ratings': []}, 'finish_reason': 'STOP', 'safety_ratings': []}, id='run-0de6aa45-b3fe-449f-84be-f482d52c338f-0', usage_metadata={'input_tokens': 51, 'output_tokens': 228, 'total_tokens': 279, 'input_token_details': {'cache_read': 0}})]"
      ]
     },
     "execution_count": 9,
     "metadata": {},
     "output_type": "execute_result"
    }
   ],
   "source": [
    "from langchain_core.messages import HumanMessage\n",
    "\n",
    "#First up, let's see how it responds when there's no need to call a tool:\n",
    "response = agent_executor.invoke({\"messages\": [HumanMessage(content=\"what is agentic ai\")]})\n",
    "\n",
    "response[\"messages\"]"
   ]
  },
  {
   "cell_type": "code",
   "execution_count": 10,
   "metadata": {},
   "outputs": [
    {
     "name": "stdout",
     "output_type": "stream",
     "text": [
      "Agentic AI refers to AI systems designed to act autonomously and proactively, exhibiting goal-directed behavior.  They can make decisions and take actions without explicit human intervention, often learning and adapting as they strive towards their objectives.  This contrasts with passive AI systems that simply respond to inputs or execute pre-programmed instructions.  Key characteristics of agentic AI include:\n",
      "\n",
      "* **Proactiveness:**  Agentic AI anticipates needs and initiates actions rather than passively waiting for commands.\n",
      "* **Goal-Oriented Behavior:**  These systems operate with specific goals in mind, driving their actions and decision-making processes.\n",
      "* **Autonomy:**  Agentic AI can function independently, making choices and executing tasks without constant human oversight.\n",
      "* **Learning and Adaptation:**  Many agentic AI systems employ machine learning to improve their performance and adapt to changing environments.\n",
      "\n",
      "While the potential benefits of agentic AI are significant, including increased efficiency and automation, there are also important considerations regarding safety, ethics, and control.  Ensuring that these systems align with human values and operate within established boundaries is crucial for responsible development and deployment.\n"
     ]
    }
   ],
   "source": [
    "print(response[\"messages\"][-1].content)"
   ]
  }
 ],
 "metadata": {
  "kernelspec": {
   "display_name": "Python 3",
   "language": "python",
   "name": "python3"
  },
  "language_info": {
   "codemirror_mode": {
    "name": "ipython",
    "version": 3
   },
   "file_extension": ".py",
   "mimetype": "text/x-python",
   "name": "python",
   "nbconvert_exporter": "python",
   "pygments_lexer": "ipython3",
   "version": "3.13.2"
  }
 },
 "nbformat": 4,
 "nbformat_minor": 2
}
