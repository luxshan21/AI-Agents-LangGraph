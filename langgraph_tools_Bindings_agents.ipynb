{
 "cells": [
  {
   "cell_type": "code",
   "execution_count": 6,
   "metadata": {},
   "outputs": [],
   "source": [
    "from IPython.display import Image,display # to display graph\n",
    "from langgraph.graph import StateGraph,START # create state machine\n",
    "from langchain_openai import ChatOpenAI\n",
    "import requests\n",
    "from langchain_core.messages import SystemMessage, HumanMessage\n",
    "from langgraph.graph import MessagesState\n",
    "\n",
    "from langgraph.prebuilt import ToolNode, tools_condition\n",
    "\n",
    "from typing import Annotated\n",
    "from typing_extensions import TypedDict\n",
    "from langgraph.graph.message import add_messages"
   ]
  },
  {
   "cell_type": "code",
   "execution_count": 7,
   "metadata": {},
   "outputs": [],
   "source": [
    "class State(TypedDict): # state is a memeory all users details save\n",
    "    messages: Annotated[list, add_messages] #chat bot memory"
   ]
  },
  {
   "cell_type": "code",
   "execution_count": 8,
   "metadata": {},
   "outputs": [
    {
     "data": {
      "text/plain": [
       "\"The White House, official residence of the president of the United States, in July 2008. The president of the United States is the head of state and head of government of the United States, [1] indirectly elected to a four-year term via the Electoral College. [2] Under the U.S. Constitution, the officeholder leads the executive branch of the federal government and is the commander-in-chief of ... The Irish Sun, It's a fake Barack Obama's brother posts forged document he claims is ex-president's 'Kenyan birth certificate,' March 11, 2017 Salon, Orly Taitz is at it again , Sept. 4, 2009 As the head of the government of the United States, the president is arguably the most powerful government official in the world. The president is elected to a four-year term via an electoral college system. Since the Twenty-second Amendment was adopted in 1951, the American presidency has been limited to a maximum of two terms.. Click on a president below to learn more about each presidency ... Born on August 4, 1961, in Honolulu, Hawaii, Obama is the first president born outside the continental United States. His full name is Barack Hussein Obama II, named after his father. Obama's mother, Ann Dunham, was from Kansas, while his father, Barack Obama Sr., hailed from Kenya. The list of presidents and their full names are as follows (with shared names in bold): 1: George Washington 2: John Adams 3: Thomas Jefferson 4: James Madison Jr. 5: James Monroe 6: John Quincy Adams\""
      ]
     },
     "execution_count": 8,
     "metadata": {},
     "output_type": "execute_result"
    }
   ],
   "source": [
    "from langchain_community.tools import DuckDuckGoSearchRun\n",
    "\n",
    "search = DuckDuckGoSearchRun() # this is a web search tool\n",
    "search.invoke(\"Obama's first name?\")"
   ]
  },
  {
   "cell_type": "code",
   "execution_count": 9,
   "metadata": {},
   "outputs": [
    {
     "name": "stdout",
     "output_type": "stream",
     "text": [
      "AI agents use feedback mechanisms, such as other AI agents and human-in-the-loop (HITL), to improve the accuracy of their responses. Let's return to our previous surfing example to highlight this. After the agent forms its response to the user, the agent stores the learned information along with the user's feedback to improve performance ... Limitations of AI Agents. AI agents have undoubtedly transformed many industries, but they come with limitations that impact their reliability, adaptability, and ethical use. Here are some of the main limitations: Limited Understanding of Context Many AI agents lack the deep understanding of context that humans have. But artificial intelligence may soon transcend that divide now that technology companies are building AI \"agents\"—systems able to make decisions and achieve goals with minimal human oversight. AI agents are also difficult to evaluate in a repeatable way that shows progress without employing artificial constraints. This is especially challenging as the core capabilities of the underlying LLMs continue to rapidly improve, which makes it difficult to know whether your approach has improved results or if it's simply the underlying ... AI Agents in Healthcare and Finance . Healthcare: Babylon Health uses AI agents to provide initial symptom diagnoses, suggest possible conditions, and connect patients with medical professionals in real-time. This not only speeds up the process of seeking care but also helps reduce the workload on healthcare providers. AI agents are also being ...\n"
     ]
    }
   ],
   "source": [
    "from langchain_community.tools import DuckDuckGoSearchRun\n",
    "\n",
    "def search_duckduckgo(query: str):\n",
    "    \"\"\"Searches DuckDuckGo using LangChain's DuckDuckGoSearchRun tool.\"\"\"\n",
    "    search = DuckDuckGoSearchRun()\n",
    "    return search.invoke(query)\n",
    "\n",
    "# Example usage\n",
    "result = search_duckduckgo(\"what are AI agent\")\n",
    "print(result)"
   ]
  },
  {
   "cell_type": "code",
   "execution_count": 10,
   "metadata": {},
   "outputs": [],
   "source": [
    "def multiply(a:int,b:int) -> int: # create own tools, own tools mean simply create a function\n",
    "    \"\"\"\n",
    "    Multiply a and b\n",
    "    \"\"\"\n",
    "    return a* b\n",
    "\n",
    "def add(a:int,b:int) -> int: # second tool\n",
    "    \"\"\"\n",
    "    Adds a and b\n",
    "    \"\"\"\n",
    "    return a + b\n",
    "\n"
   ]
  },
  {
   "cell_type": "code",
   "execution_count": null,
   "metadata": {},
   "outputs": [],
   "source": [
    "from langchain_google_genai import ChatGoogleGenerativeAI\n",
    "llm = ChatGoogleGenerativeAI(model=\"gemini-1.5-pro-latest\", temperature=0.1, api_key=\"Your google API key\")"
   ]
  },
  {
   "cell_type": "code",
   "execution_count": 12,
   "metadata": {},
   "outputs": [
    {
     "data": {
      "text/plain": [
       "'Hello there! How can I help you today?'"
      ]
     },
     "execution_count": 12,
     "metadata": {},
     "output_type": "execute_result"
    }
   ],
   "source": [
    "llm.invoke('hello').content"
   ]
  },
  {
   "cell_type": "code",
   "execution_count": 13,
   "metadata": {},
   "outputs": [],
   "source": [
    "tools = [search_duckduckgo, add, multiply] # binding all tools\n",
    "\n",
    "llm_with_tools = llm.bind_tools(tools) "
   ]
  },
  {
   "cell_type": "code",
   "execution_count": 14,
   "metadata": {},
   "outputs": [],
   "source": [
    "def chatbot(state: State):\n",
    "    return {\"messages\": [llm_with_tools.invoke(state[\"messages\"])]} # here state is memeory\n"
   ]
  },
  {
   "cell_type": "code",
   "execution_count": 15,
   "metadata": {},
   "outputs": [],
   "source": [
    "from langgraph.prebuilt import ToolNode, tools_condition # create state graph\n",
    "\n",
    "graph_builder = StateGraph(State)\n",
    "\n",
    "# Define nodes and add nodes\n",
    "graph_builder.add_node(\"assistant\",chatbot) # chat node\n",
    "graph_builder.add_node(\"tools\",ToolNode(tools)) # tool node\n",
    "\n",
    "#define edges\n",
    "graph_builder.add_edge(START,\"assistant\")\n",
    "graph_builder.add_conditional_edges(\"assistant\",tools_condition)\n",
    "graph_builder.add_edge(\"tools\",\"assistant\")\n",
    "\n",
    "react_graph=graph_builder.compile() # compile to run it "
   ]
  },
  {
   "cell_type": "code",
   "execution_count": 16,
   "metadata": {},
   "outputs": [
    {
     "data": {
      "image/png": "[encoded data removed]",
      "text/plain": [
       "<IPython.core.display.Image object>"
      ]
     },
     "metadata": {},
     "output_type": "display_data"
    }
   ],
   "source": [
    "# To see the graph’s connection visually\n",
    "\n",
    "display(Image(react_graph.get_graph().draw_mermaid_png()))"
   ]
  },
  {
   "cell_type": "code",
   "execution_count": 17,
   "metadata": {},
   "outputs": [
    {
     "name": "stdout",
     "output_type": "stream",
     "text": [
      "[HumanMessage(content='what is the weather in delhi. Extract temperature value. Multiply it by 2 and add 5.', additional_kwargs={}, response_metadata={}, id='6b732ccc-2eaa-4149-b9ae-af72d9fd6736'), AIMessage(content='', additional_kwargs={'function_call': {'name': 'search_duckduckgo', 'arguments': '{\"query\": \"weather in delhi\"}'}}, response_metadata={'prompt_feedback': {'block_reason': 0, 'safety_ratings': []}, 'finish_reason': 'STOP', 'safety_ratings': []}, id='run-3123bd2d-2ae2-4c24-b6f5-a62b0870958a-0', tool_calls=[{'name': 'search_duckduckgo', 'args': {'query': 'weather in delhi'}, 'id': '9402b4e3-5762-4343-86e6-7b7db0493ac6', 'type': 'tool_call'}], usage_metadata={'input_tokens': 63, 'output_tokens': 9, 'total_tokens': 72, 'input_token_details': {'cache_read': 0}}), ToolMessage(content=\"Get today's real-time weather updates in New Delhi with hourly temperatures and a weekly forecast. Find out about New Delhi's temperature trends, rain chances, air quality (AQI), and humidity ... New Delhi Weather Forecasts. Weather Underground provides local & long-range weather forecasts, weatherreports, maps & tropical weather conditions for the New Delhi area. Our 5-day meteogram for New Delhi offers all weather information in 3 simple graphs: [More] Temperature chart with weather pictograms. The yellow background indicates daylight. Clouds in different altitudes: from few clouds (light grey) to overcast (dark grey). Dark blue bars show hourly precipitation and light blue showers. 12 day Delhi Weather Forecast. Live Weather Warnings, hourly weather updates. Accurate Delhi weather today, forecast for sun, rain, wind and temperature. Tomorrow, in New Delhi, a cloudless sky and sunshiny weather are expected as well. Forecasted temperature values will span from a warm 26°C (78.8°F) down to a moderate 13°C (55.4°F). Tomorrow, the forecasted top temperature will coincide with the usual February high temperature. Sunrise will be at 6:50 am and sunset at 6:18 pm; tomorrow's daylight will last for 11h and 28min.\", name='search_duckduckgo', id='fcc28aaa-69bd-4947-bfdc-3159e3ac4b8e', tool_call_id='9402b4e3-5762-4343-86e6-7b7db0493ac6'), AIMessage(content='I am sorry, I cannot answer your question because I cannot reliably extract the temperature value from the search result.', additional_kwargs={}, response_metadata={'prompt_feedback': {'block_reason': 0, 'safety_ratings': []}, 'finish_reason': 'STOP', 'safety_ratings': []}, id='run-34246738-b696-4a8f-b5ae-7ce42dfceaa8-0', usage_metadata={'input_tokens': 356, 'output_tokens': 22, 'total_tokens': 378, 'input_token_details': {'cache_read': 0}})]\n"
     ]
    }
   ],
   "source": [
    "response = react_graph.invoke({\"messages\": [HumanMessage(content=\"what is the weather in delhi. Extract temperature value. Multiply it by 2 and add 5.\")]})\n",
    "print(response[\"messages\"]) # first dudckduck tool to find whter in delhi after use multiply finction tool to do multiply and after additon tool fnction to do additon"
   ]
  },
  {
   "cell_type": "code",
   "execution_count": 18,
   "metadata": {},
   "outputs": [
    {
     "name": "stdout",
     "output_type": "stream",
     "text": [
      "================================\u001b[1m Human Message \u001b[0m=================================\n",
      "\n",
      "what is the weather in delhi. Extract temperature value. Multiply it by 2 and add 5.\n",
      "==================================\u001b[1m Ai Message \u001b[0m==================================\n",
      "Tool Calls:\n",
      "  search_duckduckgo (9402b4e3-5762-4343-86e6-7b7db0493ac6)\n",
      " Call ID: 9402b4e3-5762-4343-86e6-7b7db0493ac6\n",
      "  Args:\n",
      "    query: weather in delhi\n",
      "=================================\u001b[1m Tool Message \u001b[0m=================================\n",
      "Name: search_duckduckgo\n",
      "\n",
      "Get today's real-time weather updates in New Delhi with hourly temperatures and a weekly forecast. Find out about New Delhi's temperature trends, rain chances, air quality (AQI), and humidity ... New Delhi Weather Forecasts. Weather Underground provides local & long-range weather forecasts, weatherreports, maps & tropical weather conditions for the New Delhi area. Our 5-day meteogram for New Delhi offers all weather information in 3 simple graphs: [More] Temperature chart with weather pictograms. The yellow background indicates daylight. Clouds in different altitudes: from few clouds (light grey) to overcast (dark grey). Dark blue bars show hourly precipitation and light blue showers. 12 day Delhi Weather Forecast. Live Weather Warnings, hourly weather updates. Accurate Delhi weather today, forecast for sun, rain, wind and temperature. Tomorrow, in New Delhi, a cloudless sky and sunshiny weather are expected as well. Forecasted temperature values will span from a warm 26°C (78.8°F) down to a moderate 13°C (55.4°F). Tomorrow, the forecasted top temperature will coincide with the usual February high temperature. Sunrise will be at 6:50 am and sunset at 6:18 pm; tomorrow's daylight will last for 11h and 28min.\n",
      "==================================\u001b[1m Ai Message \u001b[0m==================================\n",
      "\n",
      "I am sorry, I cannot answer your question because I cannot reliably extract the temperature value from the search result.\n"
     ]
    }
   ],
   "source": [
    "for m in response['messages']:\n",
    "    m.pretty_print() # when change llm it can extract text and do numerical work "
   ]
  }
 ],
 "metadata": {
  "kernelspec": {
   "display_name": "Python 3",
   "language": "python",
   "name": "python3"
  },
  "language_info": {
   "codemirror_mode": {
    "name": "ipython",
    "version": 3
   },
   "file_extension": ".py",
   "mimetype": "text/x-python",
   "name": "python",
   "nbconvert_exporter": "python",
   "pygments_lexer": "ipython3",
   "version": "3.13.2"
  }
 },
 "nbformat": 4,
 "nbformat_minor": 2
}
