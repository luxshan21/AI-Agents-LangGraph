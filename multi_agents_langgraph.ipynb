{
 "cells": [
  {
   "cell_type": "code",
   "execution_count": null,
   "metadata": {},
   "outputs": [],
   "source": [
    "from langchain_google_genai import ChatGoogleGenerativeAI\n",
    "from langgraph_supervisor import create_supervisor\n",
    "from langgraph.prebuilt import create_react_agent\n",
    "\n",
    "model = ChatGoogleGenerativeAI(model=\"gemini-1.5-pro-latest\", temperature=0.1, api_key=\"Your Google Api Key\")"
   ]
  },
  {
   "cell_type": "code",
   "execution_count": 13,
   "metadata": {},
   "outputs": [],
   "source": [
    "from langchain_community.tools import DuckDuckGoSearchRun # create tools\n",
    "\n",
    "def search_duckduckgo(query: str): #web search tool\n",
    "    \"\"\"Searches DuckDuckGo using LangChain's DuckDuckGoSearchRun tool.\"\"\"\n",
    "    search = DuckDuckGoSearchRun()\n",
    "    return search.invoke(query)\n",
    "\n",
    "#Example usage\n",
    "#result = search_duckduckgo(\"what are AI agent\")\n",
    "#print(result)\n",
    "\n",
    "def add(a: float, b: float) -> float:\n",
    "    \"\"\"Add two numbers.\"\"\"\n",
    "    return a + b\n",
    "\n",
    "def multiply(a: float, b: float) -> float:\n",
    "    \"\"\"Multiply two numbers.\"\"\"\n",
    "    return a * b"
   ]
  },
  {
   "cell_type": "code",
   "execution_count": 14,
   "metadata": {},
   "outputs": [],
   "source": [
    "from langgraph_supervisor import create_supervisor\n",
    "from langgraph.prebuilt import create_react_agent\n",
    "\n",
    "math_agent = create_react_agent(\n",
    "    model=model,\n",
    "    tools=[add, multiply],\n",
    "    name=\"math_expert\",\n",
    "    prompt=\"You are a math expert. Always use one tool at a time.\"\n",
    ")"
   ]
  },
  {
   "cell_type": "code",
   "execution_count": 15,
   "metadata": {},
   "outputs": [],
   "source": [
    "research_agent = create_react_agent(\n",
    "    model=model,\n",
    "    tools=[search_duckduckgo],\n",
    "    name=\"research_expert\",\n",
    "    prompt=\"You are a world class researcher with access to web search. Do not do any math.\"\n",
    ")"
   ]
  },
  {
   "cell_type": "code",
   "execution_count": 16,
   "metadata": {},
   "outputs": [],
   "source": [
    "# Create supervisor workflow\n",
    "workflow = create_supervisor(\n",
    "    [research_agent, math_agent],\n",
    "    model=model,\n",
    "    prompt=(\n",
    "        \"You are a team supervisor managing a research expert and a math expert. \"\n",
    "        \"For current events, use research_agent. \"\n",
    "        \"For math problems, use math_agent.\"\n",
    "    )\n",
    ")"
   ]
  },
  {
   "cell_type": "code",
   "execution_count": 17,
   "metadata": {},
   "outputs": [],
   "source": [
    "# Compile and run\n",
    "app = workflow.compile()\n",
    "\n",
    "result = app.invoke({\n",
    "    \"messages\": [\n",
    "        {\n",
    "            \"role\": \"user\",\n",
    "            \"content\": \"what is quantum computing?\"\n",
    "        }\n",
    "    ]\n",
    "})"
   ]
  },
  {
   "cell_type": "code",
   "execution_count": 18,
   "metadata": {},
   "outputs": [
    {
     "data": {
      "text/plain": [
       "{'messages': [HumanMessage(content='what is quantum computing?', additional_kwargs={}, response_metadata={}, id='cbd4ebc2-e966-46e1-ae7a-a87d0daf24c0'),\n",
       "  AIMessage(content='', additional_kwargs={'function_call': {'name': 'transfer_to_research_expert', 'arguments': '{}'}}, response_metadata={'prompt_feedback': {'block_reason': 0, 'safety_ratings': []}, 'finish_reason': 'STOP', 'safety_ratings': []}, name='supervisor', id='run-e49ee9c2-a926-4479-8967-16a5e6c28823-0', tool_calls=[{'name': 'transfer_to_research_expert', 'args': {}, 'id': 'b5efc939-433a-4889-b394-626cdef940b9', 'type': 'tool_call'}], usage_metadata={'input_tokens': 63, 'output_tokens': 7, 'total_tokens': 70, 'input_token_details': {'cache_read': 0}}),\n",
       "  ToolMessage(content='Successfully transferred to research_expert', name='transfer_to_research_expert', id='47ae0dd1-6ce3-4f92-b4c4-5e23c55c400c', tool_call_id='b5efc939-433a-4889-b394-626cdef940b9'),\n",
       "  AIMessage(content='Quantum computing harnesses the mind-bending principles of quantum mechanics to perform powerful calculations. Unlike classical computers that store information as bits representing 0 or 1, quantum computers use qubits.  Qubits leverage superposition and entanglement, allowing them to represent 0, 1, or a combination of both simultaneously. This unlocks the potential to tackle complex problems beyond the reach of classical computers, like drug discovery, materials science, and cryptography.  While still in its early stages, quantum computing holds immense promise for revolutionizing various fields.', additional_kwargs={}, response_metadata={'prompt_feedback': {'block_reason': 0, 'safety_ratings': []}, 'finish_reason': 'STOP', 'safety_ratings': []}, name='research_expert', id='run-4dc4de50-79cb-4a67-9d52-12bc9ffdfe48-0', usage_metadata={'input_tokens': 68, 'output_tokens': 108, 'total_tokens': 176, 'input_token_details': {'cache_read': 0}}),\n",
       "  AIMessage(content='Transferring back to supervisor', additional_kwargs={}, response_metadata={}, name='research_expert', id='c6e85626-e956-4e83-a542-bf56efd02eee', tool_calls=[{'name': 'transfer_back_to_supervisor', 'args': {}, 'id': '7d6ee997-93af-4f7d-af14-bb1ac5b22972', 'type': 'tool_call'}]),\n",
       "  ToolMessage(content='Successfully transferred back to supervisor', name='transfer_back_to_supervisor', id='e5ad04fb-8fd7-483a-a5a9-4f907f61f77b', tool_call_id='7d6ee997-93af-4f7d-af14-bb1ac5b22972'),\n",
       "  AIMessage(content='Is there anything else I can help you with?', additional_kwargs={}, response_metadata={'prompt_feedback': {'block_reason': 0, 'safety_ratings': []}, 'finish_reason': 'STOP', 'safety_ratings': []}, name='supervisor', id='run-9ff1c23c-bdeb-45b2-9fd6-a701917eab5b-0', usage_metadata={'input_tokens': 211, 'output_tokens': 11, 'total_tokens': 222, 'input_token_details': {'cache_read': 0}})]}"
      ]
     },
     "execution_count": 18,
     "metadata": {},
     "output_type": "execute_result"
    }
   ],
   "source": [
    "result"
   ]
  },
  {
   "cell_type": "code",
   "execution_count": 19,
   "metadata": {},
   "outputs": [
    {
     "name": "stdout",
     "output_type": "stream",
     "text": [
      "================================\u001b[1m Human Message \u001b[0m=================================\n",
      "\n",
      "what is quantum computing?\n",
      "==================================\u001b[1m Ai Message \u001b[0m==================================\n",
      "Name: supervisor\n",
      "Tool Calls:\n",
      "  transfer_to_research_expert (b5efc939-433a-4889-b394-626cdef940b9)\n",
      " Call ID: b5efc939-433a-4889-b394-626cdef940b9\n",
      "  Args:\n",
      "=================================\u001b[1m Tool Message \u001b[0m=================================\n",
      "Name: transfer_to_research_expert\n",
      "\n",
      "Successfully transferred to research_expert\n",
      "==================================\u001b[1m Ai Message \u001b[0m==================================\n",
      "Name: research_expert\n",
      "\n",
      "Quantum computing harnesses the mind-bending principles of quantum mechanics to perform powerful calculations. Unlike classical computers that store information as bits representing 0 or 1, quantum computers use qubits.  Qubits leverage superposition and entanglement, allowing them to represent 0, 1, or a combination of both simultaneously. This unlocks the potential to tackle complex problems beyond the reach of classical computers, like drug discovery, materials science, and cryptography.  While still in its early stages, quantum computing holds immense promise for revolutionizing various fields.\n",
      "==================================\u001b[1m Ai Message \u001b[0m==================================\n",
      "Name: research_expert\n",
      "\n",
      "Transferring back to supervisor\n",
      "Tool Calls:\n",
      "  transfer_back_to_supervisor (7d6ee997-93af-4f7d-af14-bb1ac5b22972)\n",
      " Call ID: 7d6ee997-93af-4f7d-af14-bb1ac5b22972\n",
      "  Args:\n",
      "=================================\u001b[1m Tool Message \u001b[0m=================================\n",
      "Name: transfer_back_to_supervisor\n",
      "\n",
      "Successfully transferred back to supervisor\n",
      "==================================\u001b[1m Ai Message \u001b[0m==================================\n",
      "Name: supervisor\n",
      "\n",
      "Is there anything else I can help you with?\n"
     ]
    }
   ],
   "source": [
    "for m in result[\"messages\"]:\n",
    "    m.pretty_print()"
   ]
  },
  {
   "cell_type": "code",
   "execution_count": 22,
   "metadata": {},
   "outputs": [
    {
     "name": "stdout",
     "output_type": "stream",
     "text": [
      "================================\u001b[1m Human Message \u001b[0m=================================\n",
      "\n",
      "what is the weather in delhi today. Multiply it by 2 and add 5\n",
      "==================================\u001b[1m Ai Message \u001b[0m==================================\n",
      "Name: supervisor\n",
      "Tool Calls:\n",
      "  transfer_to_research_expert (b0dc2e57-8fb1-4049-8eb5-5791b6a50448)\n",
      " Call ID: b0dc2e57-8fb1-4049-8eb5-5791b6a50448\n",
      "  Args:\n",
      "=================================\u001b[1m Tool Message \u001b[0m=================================\n",
      "Name: transfer_to_research_expert\n",
      "\n",
      "Successfully transferred to research_expert\n",
      "==================================\u001b[1m Ai Message \u001b[0m==================================\n",
      "Name: research_expert\n",
      "\n",
      "I cannot answer your question because the available tools are not working as expected. Please try again later.\n",
      "==================================\u001b[1m Ai Message \u001b[0m==================================\n",
      "Name: research_expert\n",
      "\n",
      "Transferring back to supervisor\n",
      "Tool Calls:\n",
      "  transfer_back_to_supervisor (39d043e2-a51f-4259-97ec-c1e9b36c3397)\n",
      " Call ID: 39d043e2-a51f-4259-97ec-c1e9b36c3397\n",
      "  Args:\n",
      "=================================\u001b[1m Tool Message \u001b[0m=================================\n",
      "Name: transfer_back_to_supervisor\n",
      "\n",
      "Successfully transferred back to supervisor\n",
      "==================================\u001b[1m Ai Message \u001b[0m==================================\n",
      "Name: supervisor\n",
      "\n",
      "Waiting for the research expert to respond. Once I have the temperature, I'll perform the calculation.\n"
     ]
    }
   ],
   "source": [
    "# Compile and run\n",
    "app = workflow.compile()\n",
    "result = app.invoke({\n",
    "    \"messages\": [\n",
    "        {\n",
    "            \"role\": \"user\",\n",
    "            \"content\": \"what is the weather in delhi today. Multiply it by 2 and add 5\"\n",
    "        }\n",
    "    ]\n",
    "})\n",
    "\n",
    "for m in result[\"messages\"]:\n",
    "    m.pretty_print()"
   ]
  }
 ],
 "metadata": {
  "kernelspec": {
   "display_name": "Python 3",
   "language": "python",
   "name": "python3"
  },
  "language_info": {
   "codemirror_mode": {
    "name": "ipython",
    "version": 3
   },
   "file_extension": ".py",
   "mimetype": "text/x-python",
   "name": "python",
   "nbconvert_exporter": "python",
   "pygments_lexer": "ipython3",
   "version": "3.13.2"
  }
 },
 "nbformat": 4,
 "nbformat_minor": 2
}
